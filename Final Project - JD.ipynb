{
 "cells": [
  {
   "cell_type": "code",
   "execution_count": 1,
   "id": "bea485e5",
   "metadata": {},
   "outputs": [],
   "source": [
    "import numpy as np\n",
    "import pandas as pd\n",
    "import matplotlib\n",
    "import matplotlib.pyplot as plt\n",
    "import seaborn as sns"
   ]
  },
  {
   "cell_type": "code",
   "execution_count": 2,
   "id": "bfe97c3e",
   "metadata": {},
   "outputs": [],
   "source": [
    "df = pd.read_csv(\"C:/Users/joi_ryde/Desktop/Woz U/Final Group Project/Lesson01 Group Project Week 1/Chronic Illness - Symptoms, Treatments & Triggers/export.csv\", low_memory=False)"
   ]
  },
  {
   "cell_type": "code",
   "execution_count": 3,
   "id": "a43a9949",
   "metadata": {},
   "outputs": [
    {
     "data": {
      "text/html": [
       "<div>\n",
       "<style scoped>\n",
       "    .dataframe tbody tr th:only-of-type {\n",
       "        vertical-align: middle;\n",
       "    }\n",
       "\n",
       "    .dataframe tbody tr th {\n",
       "        vertical-align: top;\n",
       "    }\n",
       "\n",
       "    .dataframe thead th {\n",
       "        text-align: right;\n",
       "    }\n",
       "</style>\n",
       "<table border=\"1\" class=\"dataframe\">\n",
       "  <thead>\n",
       "    <tr style=\"text-align: right;\">\n",
       "      <th></th>\n",
       "      <th>user_id</th>\n",
       "      <th>age</th>\n",
       "      <th>sex</th>\n",
       "      <th>country</th>\n",
       "      <th>checkin_date</th>\n",
       "      <th>trackable_id</th>\n",
       "      <th>trackable_type</th>\n",
       "      <th>trackable_name</th>\n",
       "      <th>trackable_value</th>\n",
       "    </tr>\n",
       "  </thead>\n",
       "  <tbody>\n",
       "    <tr>\n",
       "      <th>0</th>\n",
       "      <td>QEVuQwEABlEzkh7fsBBjEe26RyIVcg==</td>\n",
       "      <td>NaN</td>\n",
       "      <td>NaN</td>\n",
       "      <td>NaN</td>\n",
       "      <td>2015-11-26</td>\n",
       "      <td>1069</td>\n",
       "      <td>Condition</td>\n",
       "      <td>Ulcerative colitis</td>\n",
       "      <td>0</td>\n",
       "    </tr>\n",
       "    <tr>\n",
       "      <th>1</th>\n",
       "      <td>QEVuQwEAWRNGnuTRqXG2996KSkTIEw==</td>\n",
       "      <td>32.0</td>\n",
       "      <td>male</td>\n",
       "      <td>US</td>\n",
       "      <td>2015-11-26</td>\n",
       "      <td>1069</td>\n",
       "      <td>Condition</td>\n",
       "      <td>Ulcerative colitis</td>\n",
       "      <td>0</td>\n",
       "    </tr>\n",
       "    <tr>\n",
       "      <th>2</th>\n",
       "      <td>QEVuQwEA+WkNxtp/qkHvN2YmTBBDqg==</td>\n",
       "      <td>2.0</td>\n",
       "      <td>female</td>\n",
       "      <td>CA</td>\n",
       "      <td>2017-04-28</td>\n",
       "      <td>3168</td>\n",
       "      <td>Condition</td>\n",
       "      <td>pain in left upper arm felt like i was getting...</td>\n",
       "      <td>4</td>\n",
       "    </tr>\n",
       "    <tr>\n",
       "      <th>3</th>\n",
       "      <td>QEVuQwEA+WkNxtp/qkHvN2YmTBBDqg==</td>\n",
       "      <td>2.0</td>\n",
       "      <td>female</td>\n",
       "      <td>CA</td>\n",
       "      <td>2017-04-28</td>\n",
       "      <td>3169</td>\n",
       "      <td>Condition</td>\n",
       "      <td>hip pain when gettin up</td>\n",
       "      <td>3</td>\n",
       "    </tr>\n",
       "    <tr>\n",
       "      <th>4</th>\n",
       "      <td>QEVuQwEA+WkNxtp/qkHvN2YmTBBDqg==</td>\n",
       "      <td>2.0</td>\n",
       "      <td>female</td>\n",
       "      <td>CA</td>\n",
       "      <td>2017-04-28</td>\n",
       "      <td>3170</td>\n",
       "      <td>Condition</td>\n",
       "      <td>pain in hand joints</td>\n",
       "      <td>4</td>\n",
       "    </tr>\n",
       "  </tbody>\n",
       "</table>\n",
       "</div>"
      ],
      "text/plain": [
       "                            user_id   age     sex country checkin_date   \n",
       "0  QEVuQwEABlEzkh7fsBBjEe26RyIVcg==   NaN     NaN     NaN   2015-11-26  \\\n",
       "1  QEVuQwEAWRNGnuTRqXG2996KSkTIEw==  32.0    male      US   2015-11-26   \n",
       "2  QEVuQwEA+WkNxtp/qkHvN2YmTBBDqg==   2.0  female      CA   2017-04-28   \n",
       "3  QEVuQwEA+WkNxtp/qkHvN2YmTBBDqg==   2.0  female      CA   2017-04-28   \n",
       "4  QEVuQwEA+WkNxtp/qkHvN2YmTBBDqg==   2.0  female      CA   2017-04-28   \n",
       "\n",
       "  trackable_id trackable_type   \n",
       "0         1069      Condition  \\\n",
       "1         1069      Condition   \n",
       "2         3168      Condition   \n",
       "3         3169      Condition   \n",
       "4         3170      Condition   \n",
       "\n",
       "                                      trackable_name trackable_value  \n",
       "0                                 Ulcerative colitis               0  \n",
       "1                                 Ulcerative colitis               0  \n",
       "2  pain in left upper arm felt like i was getting...               4  \n",
       "3                            hip pain when gettin up               3  \n",
       "4                                pain in hand joints               4  "
      ]
     },
     "execution_count": 3,
     "metadata": {},
     "output_type": "execute_result"
    }
   ],
   "source": [
    "df.head()"
   ]
  },
  {
   "cell_type": "code",
   "execution_count": 4,
   "id": "bd06c5cf",
   "metadata": {},
   "outputs": [
    {
     "name": "stdout",
     "output_type": "stream",
     "text": [
      "<class 'pandas.core.frame.DataFrame'>\n",
      "RangeIndex: 7976223 entries, 0 to 7976222\n",
      "Data columns (total 9 columns):\n",
      " #   Column           Dtype  \n",
      "---  ------           -----  \n",
      " 0   user_id          object \n",
      " 1   age              float64\n",
      " 2   sex              object \n",
      " 3   country          object \n",
      " 4   checkin_date     object \n",
      " 5   trackable_id     object \n",
      " 6   trackable_type   object \n",
      " 7   trackable_name   object \n",
      " 8   trackable_value  object \n",
      "dtypes: float64(1), object(8)\n",
      "memory usage: 547.7+ MB\n"
     ]
    }
   ],
   "source": [
    "df.info()"
   ]
  },
  {
   "cell_type": "code",
   "execution_count": 5,
   "id": "f8d2bff0",
   "metadata": {},
   "outputs": [
    {
     "data": {
      "text/plain": [
       "user_id             42283\n",
       "age                   100\n",
       "sex                     4\n",
       "country               164\n",
       "checkin_date         1675\n",
       "trackable_id       222465\n",
       "trackable_type          7\n",
       "trackable_name     117214\n",
       "trackable_value     15960\n",
       "dtype: int64"
      ]
     },
     "execution_count": 5,
     "metadata": {},
     "output_type": "execute_result"
    }
   ],
   "source": [
    "df.nunique()"
   ]
  },
  {
   "cell_type": "code",
   "execution_count": 6,
   "id": "21398d07",
   "metadata": {},
   "outputs": [
    {
     "data": {
      "text/html": [
       "<div>\n",
       "<style scoped>\n",
       "    .dataframe tbody tr th:only-of-type {\n",
       "        vertical-align: middle;\n",
       "    }\n",
       "\n",
       "    .dataframe tbody tr th {\n",
       "        vertical-align: top;\n",
       "    }\n",
       "\n",
       "    .dataframe thead th {\n",
       "        text-align: right;\n",
       "    }\n",
       "</style>\n",
       "<table border=\"1\" class=\"dataframe\">\n",
       "  <thead>\n",
       "    <tr style=\"text-align: right;\">\n",
       "      <th></th>\n",
       "      <th>user_id</th>\n",
       "      <th>sex</th>\n",
       "      <th>country</th>\n",
       "      <th>checkin_date</th>\n",
       "      <th>trackable_id</th>\n",
       "      <th>trackable_type</th>\n",
       "      <th>trackable_name</th>\n",
       "      <th>trackable_value</th>\n",
       "    </tr>\n",
       "  </thead>\n",
       "  <tbody>\n",
       "    <tr>\n",
       "      <th>count</th>\n",
       "      <td>7976223</td>\n",
       "      <td>7844088</td>\n",
       "      <td>7678238</td>\n",
       "      <td>7976223</td>\n",
       "      <td>7976223</td>\n",
       "      <td>7976223</td>\n",
       "      <td>7976219</td>\n",
       "      <td>7049339</td>\n",
       "    </tr>\n",
       "    <tr>\n",
       "      <th>unique</th>\n",
       "      <td>42283</td>\n",
       "      <td>4</td>\n",
       "      <td>164</td>\n",
       "      <td>1675</td>\n",
       "      <td>222465</td>\n",
       "      <td>7</td>\n",
       "      <td>117214</td>\n",
       "      <td>15960</td>\n",
       "    </tr>\n",
       "    <tr>\n",
       "      <th>top</th>\n",
       "      <td>QEVuQwEAmS9U3RAfpAoxDeyaHuHfNQ==</td>\n",
       "      <td>female</td>\n",
       "      <td>US</td>\n",
       "      <td>2019-01-28</td>\n",
       "      <td>242</td>\n",
       "      <td>Symptom</td>\n",
       "      <td>humidity</td>\n",
       "      <td>0</td>\n",
       "    </tr>\n",
       "    <tr>\n",
       "      <th>freq</th>\n",
       "      <td>69187</td>\n",
       "      <td>6478402</td>\n",
       "      <td>4690209</td>\n",
       "      <td>10887</td>\n",
       "      <td>109093</td>\n",
       "      <td>3642279</td>\n",
       "      <td>232334</td>\n",
       "      <td>1385241</td>\n",
       "    </tr>\n",
       "  </tbody>\n",
       "</table>\n",
       "</div>"
      ],
      "text/plain": [
       "                                 user_id      sex  country checkin_date   \n",
       "count                            7976223  7844088  7678238      7976223  \\\n",
       "unique                             42283        4      164         1675   \n",
       "top     QEVuQwEAmS9U3RAfpAoxDeyaHuHfNQ==   female       US   2019-01-28   \n",
       "freq                               69187  6478402  4690209        10887   \n",
       "\n",
       "       trackable_id trackable_type trackable_name trackable_value  \n",
       "count       7976223        7976223        7976219         7049339  \n",
       "unique       222465              7         117214           15960  \n",
       "top             242        Symptom       humidity               0  \n",
       "freq         109093        3642279         232334         1385241  "
      ]
     },
     "execution_count": 6,
     "metadata": {},
     "output_type": "execute_result"
    }
   ],
   "source": [
    "df.describe(include=[\"O\"])"
   ]
  },
  {
   "cell_type": "code",
   "execution_count": 63,
   "id": "775595a8",
   "metadata": {},
   "outputs": [],
   "source": [
    "df['user_id'] = pd.Categorical(df['user_id'])\n",
    "df['user_id']= df.user_id.cat.codes"
   ]
  },
  {
   "cell_type": "code",
   "execution_count": 64,
   "id": "034ec125",
   "metadata": {},
   "outputs": [
    {
     "name": "stdout",
     "output_type": "stream",
     "text": [
      "          sex\n",
      "0        male\n",
      "1      female\n",
      "2  doesnt_say\n",
      "3       other\n",
      "4    (Blanks)\n"
     ]
    }
   ],
   "source": [
    "# Create a sample DataFrame\n",
    "data = {'sex': ['male', 'female', 'doesnt_say', 'other', '(Blanks)']}\n",
    "df_sex = pd.DataFrame(data)\n",
    "\n",
    "def sexR(sex):\n",
    "    if sex == 'male':\n",
    "        return 1\n",
    "    elif sex == 'female':\n",
    "        return 2\n",
    "    elif sex == 'doesnt_say':\n",
    "        return 3\n",
    "    elif sex == 'other':\n",
    "        return 4\n",
    "    else:\n",
    "        return 0  # Default value for unknown categories\n",
    "\n",
    "# Recode the column using the defined function\n",
    "df['sexR'] = df['sex'].apply(sex)\n",
    "print(df_sex)"
   ]
  },
  {
   "cell_type": "code",
   "execution_count": 65,
   "id": "e2fef2ce",
   "metadata": {},
   "outputs": [],
   "source": [
    "df_sex=df.dropna() "
   ]
  },
  {
   "cell_type": "code",
   "execution_count": 93,
   "id": "395c872f",
   "metadata": {},
   "outputs": [
    {
     "name": "stdout",
     "output_type": "stream",
     "text": [
      "         user_id   age country checkin_date trackable_id trackable_type   \n",
      "0           9070   NaN     NaN   2015-11-26         1069      Condition  \\\n",
      "1          22737  32.0      US   2015-11-26         1069      Condition   \n",
      "2            376   2.0      CA   2017-04-28         3168      Condition   \n",
      "3            376   2.0      CA   2017-04-28         3169      Condition   \n",
      "4            376   2.0      CA   2017-04-28         3170      Condition   \n",
      "...          ...   ...     ...          ...          ...            ...   \n",
      "7976218    38270  22.0      GB   2019-12-04            1            Tag   \n",
      "7976219    38270  22.0      GB   2019-12-04            2            Tag   \n",
      "7976220    38270  22.0      GB   2019-12-04         9002           Food   \n",
      "7976221    38270  22.0      GB   2019-12-04         9139           Food   \n",
      "7976222    38270  22.0      GB   2019-12-04        10260           Food   \n",
      "\n",
      "                                            trackable_name trackable_value   \n",
      "0                                       Ulcerative colitis               0  \\\n",
      "1                                       Ulcerative colitis               0   \n",
      "2        pain in left upper arm felt like i was getting...               4   \n",
      "3                                  hip pain when gettin up               3   \n",
      "4                                      pain in hand joints               4   \n",
      "...                                                    ...             ...   \n",
      "7976218                                              tired             NaN   \n",
      "7976219                                           stressed             NaN   \n",
      "7976220                                               soup             NaN   \n",
      "7976221                                             yogurt             NaN   \n",
      "7976222                                            granola             NaN   \n",
      "\n",
      "         sexR  \n",
      "0         NaN  \n",
      "1         0.0  \n",
      "2         1.0  \n",
      "3         1.0  \n",
      "4         1.0  \n",
      "...       ...  \n",
      "7976218   1.0  \n",
      "7976219   1.0  \n",
      "7976220   1.0  \n",
      "7976221   1.0  \n",
      "7976222   1.0  \n",
      "\n",
      "[7976223 rows x 9 columns]\n"
     ]
    }
   ],
   "source": [
    "column_to_drop = 'sex'\n",
    "df_sex_dropped = df.drop(columns=['sex'])\n",
    "\n",
    "print(df_sex_dropped)"
   ]
  },
  {
   "cell_type": "code",
   "execution_count": 94,
   "id": "10b278bd",
   "metadata": {},
   "outputs": [
    {
     "name": "stdout",
     "output_type": "stream",
     "text": [
      "<class 'pandas.core.frame.DataFrame'>\n",
      "RangeIndex: 7976223 entries, 0 to 7976222\n",
      "Data columns (total 9 columns):\n",
      " #   Column           Dtype  \n",
      "---  ------           -----  \n",
      " 0   user_id          int32  \n",
      " 1   age              float64\n",
      " 2   country          object \n",
      " 3   checkin_date     object \n",
      " 4   trackable_id     object \n",
      " 5   trackable_type   object \n",
      " 6   trackable_name   object \n",
      " 7   trackable_value  object \n",
      " 8   sexR             float64\n",
      "dtypes: float64(2), int32(1), object(6)\n",
      "memory usage: 517.3+ MB\n"
     ]
    }
   ],
   "source": [
    "df_sex_dropped.info()"
   ]
  },
  {
   "cell_type": "code",
   "execution_count": 95,
   "id": "e19e9488",
   "metadata": {},
   "outputs": [
    {
     "data": {
      "text/html": [
       "<div>\n",
       "<style scoped>\n",
       "    .dataframe tbody tr th:only-of-type {\n",
       "        vertical-align: middle;\n",
       "    }\n",
       "\n",
       "    .dataframe tbody tr th {\n",
       "        vertical-align: top;\n",
       "    }\n",
       "\n",
       "    .dataframe thead th {\n",
       "        text-align: right;\n",
       "    }\n",
       "</style>\n",
       "<table border=\"1\" class=\"dataframe\">\n",
       "  <thead>\n",
       "    <tr style=\"text-align: right;\">\n",
       "      <th></th>\n",
       "      <th>user_id</th>\n",
       "      <th>age</th>\n",
       "      <th>country</th>\n",
       "      <th>checkin_date</th>\n",
       "      <th>trackable_id</th>\n",
       "      <th>trackable_type</th>\n",
       "      <th>trackable_name</th>\n",
       "      <th>trackable_value</th>\n",
       "      <th>sexR</th>\n",
       "    </tr>\n",
       "  </thead>\n",
       "  <tbody>\n",
       "    <tr>\n",
       "      <th>0</th>\n",
       "      <td>9070</td>\n",
       "      <td>NaN</td>\n",
       "      <td>NaN</td>\n",
       "      <td>2015-11-26</td>\n",
       "      <td>1069</td>\n",
       "      <td>Condition</td>\n",
       "      <td>Ulcerative colitis</td>\n",
       "      <td>0</td>\n",
       "      <td>NaN</td>\n",
       "    </tr>\n",
       "    <tr>\n",
       "      <th>1</th>\n",
       "      <td>22737</td>\n",
       "      <td>32.0</td>\n",
       "      <td>US</td>\n",
       "      <td>2015-11-26</td>\n",
       "      <td>1069</td>\n",
       "      <td>Condition</td>\n",
       "      <td>Ulcerative colitis</td>\n",
       "      <td>0</td>\n",
       "      <td>0.0</td>\n",
       "    </tr>\n",
       "    <tr>\n",
       "      <th>2</th>\n",
       "      <td>376</td>\n",
       "      <td>2.0</td>\n",
       "      <td>CA</td>\n",
       "      <td>2017-04-28</td>\n",
       "      <td>3168</td>\n",
       "      <td>Condition</td>\n",
       "      <td>pain in left upper arm felt like i was getting...</td>\n",
       "      <td>4</td>\n",
       "      <td>1.0</td>\n",
       "    </tr>\n",
       "    <tr>\n",
       "      <th>3</th>\n",
       "      <td>376</td>\n",
       "      <td>2.0</td>\n",
       "      <td>CA</td>\n",
       "      <td>2017-04-28</td>\n",
       "      <td>3169</td>\n",
       "      <td>Condition</td>\n",
       "      <td>hip pain when gettin up</td>\n",
       "      <td>3</td>\n",
       "      <td>1.0</td>\n",
       "    </tr>\n",
       "    <tr>\n",
       "      <th>4</th>\n",
       "      <td>376</td>\n",
       "      <td>2.0</td>\n",
       "      <td>CA</td>\n",
       "      <td>2017-04-28</td>\n",
       "      <td>3170</td>\n",
       "      <td>Condition</td>\n",
       "      <td>pain in hand joints</td>\n",
       "      <td>4</td>\n",
       "      <td>1.0</td>\n",
       "    </tr>\n",
       "  </tbody>\n",
       "</table>\n",
       "</div>"
      ],
      "text/plain": [
       "   user_id   age country checkin_date trackable_id trackable_type   \n",
       "0     9070   NaN     NaN   2015-11-26         1069      Condition  \\\n",
       "1    22737  32.0      US   2015-11-26         1069      Condition   \n",
       "2      376   2.0      CA   2017-04-28         3168      Condition   \n",
       "3      376   2.0      CA   2017-04-28         3169      Condition   \n",
       "4      376   2.0      CA   2017-04-28         3170      Condition   \n",
       "\n",
       "                                      trackable_name trackable_value  sexR  \n",
       "0                                 Ulcerative colitis               0   NaN  \n",
       "1                                 Ulcerative colitis               0   0.0  \n",
       "2  pain in left upper arm felt like i was getting...               4   1.0  \n",
       "3                            hip pain when gettin up               3   1.0  \n",
       "4                                pain in hand joints               4   1.0  "
      ]
     },
     "execution_count": 95,
     "metadata": {},
     "output_type": "execute_result"
    }
   ],
   "source": [
    "df_sex_dropped.head()"
   ]
  },
  {
   "cell_type": "code",
   "execution_count": 96,
   "id": "5e3051a5",
   "metadata": {},
   "outputs": [
    {
     "name": "stdout",
     "output_type": "stream",
     "text": [
      "user_id\n",
      "33425    69187\n",
      "32732    66151\n",
      "29968    52308\n",
      "22158    39827\n",
      "18360    34469\n",
      "         ...  \n",
      "22891        1\n",
      "28052        1\n",
      "42039        1\n",
      "28947        1\n",
      "9070         1\n",
      "Name: count, Length: 42283, dtype: int64\n"
     ]
    }
   ],
   "source": [
    "value_counts = df_sex_dropped['user_id'].value_counts()\n",
    "print(value_counts)"
   ]
  },
  {
   "cell_type": "code",
   "execution_count": 97,
   "id": "fdf56d60",
   "metadata": {},
   "outputs": [
    {
     "data": {
      "text/html": [
       "<div>\n",
       "<style scoped>\n",
       "    .dataframe tbody tr th:only-of-type {\n",
       "        vertical-align: middle;\n",
       "    }\n",
       "\n",
       "    .dataframe tbody tr th {\n",
       "        vertical-align: top;\n",
       "    }\n",
       "\n",
       "    .dataframe thead th {\n",
       "        text-align: right;\n",
       "    }\n",
       "</style>\n",
       "<table border=\"1\" class=\"dataframe\">\n",
       "  <thead>\n",
       "    <tr style=\"text-align: right;\">\n",
       "      <th></th>\n",
       "      <th>user_id</th>\n",
       "      <th>age</th>\n",
       "      <th>country</th>\n",
       "      <th>checkin_date</th>\n",
       "      <th>trackable_id</th>\n",
       "      <th>trackable_type</th>\n",
       "      <th>trackable_name</th>\n",
       "      <th>trackable_value</th>\n",
       "      <th>sexR</th>\n",
       "    </tr>\n",
       "  </thead>\n",
       "  <tbody>\n",
       "    <tr>\n",
       "      <th>0</th>\n",
       "      <td>9070</td>\n",
       "      <td>NaN</td>\n",
       "      <td>NaN</td>\n",
       "      <td>2015-11-26</td>\n",
       "      <td>1069</td>\n",
       "      <td>Condition</td>\n",
       "      <td>Ulcerative colitis</td>\n",
       "      <td>0</td>\n",
       "      <td>NaN</td>\n",
       "    </tr>\n",
       "    <tr>\n",
       "      <th>1</th>\n",
       "      <td>22737</td>\n",
       "      <td>32.0</td>\n",
       "      <td>US</td>\n",
       "      <td>2015-11-26</td>\n",
       "      <td>1069</td>\n",
       "      <td>Condition</td>\n",
       "      <td>Ulcerative colitis</td>\n",
       "      <td>0</td>\n",
       "      <td>0.0</td>\n",
       "    </tr>\n",
       "    <tr>\n",
       "      <th>2</th>\n",
       "      <td>376</td>\n",
       "      <td>2.0</td>\n",
       "      <td>CA</td>\n",
       "      <td>2017-04-28</td>\n",
       "      <td>3168</td>\n",
       "      <td>Condition</td>\n",
       "      <td>pain in left upper arm felt like i was getting...</td>\n",
       "      <td>4</td>\n",
       "      <td>1.0</td>\n",
       "    </tr>\n",
       "    <tr>\n",
       "      <th>3</th>\n",
       "      <td>376</td>\n",
       "      <td>2.0</td>\n",
       "      <td>CA</td>\n",
       "      <td>2017-04-28</td>\n",
       "      <td>3169</td>\n",
       "      <td>Condition</td>\n",
       "      <td>hip pain when gettin up</td>\n",
       "      <td>3</td>\n",
       "      <td>1.0</td>\n",
       "    </tr>\n",
       "    <tr>\n",
       "      <th>4</th>\n",
       "      <td>376</td>\n",
       "      <td>2.0</td>\n",
       "      <td>CA</td>\n",
       "      <td>2017-04-28</td>\n",
       "      <td>3170</td>\n",
       "      <td>Condition</td>\n",
       "      <td>pain in hand joints</td>\n",
       "      <td>4</td>\n",
       "      <td>1.0</td>\n",
       "    </tr>\n",
       "  </tbody>\n",
       "</table>\n",
       "</div>"
      ],
      "text/plain": [
       "   user_id   age country checkin_date trackable_id trackable_type   \n",
       "0     9070   NaN     NaN   2015-11-26         1069      Condition  \\\n",
       "1    22737  32.0      US   2015-11-26         1069      Condition   \n",
       "2      376   2.0      CA   2017-04-28         3168      Condition   \n",
       "3      376   2.0      CA   2017-04-28         3169      Condition   \n",
       "4      376   2.0      CA   2017-04-28         3170      Condition   \n",
       "\n",
       "                                      trackable_name trackable_value  sexR  \n",
       "0                                 Ulcerative colitis               0   NaN  \n",
       "1                                 Ulcerative colitis               0   0.0  \n",
       "2  pain in left upper arm felt like i was getting...               4   1.0  \n",
       "3                            hip pain when gettin up               3   1.0  \n",
       "4                                pain in hand joints               4   1.0  "
      ]
     },
     "execution_count": 97,
     "metadata": {},
     "output_type": "execute_result"
    }
   ],
   "source": [
    "df_sex_dropped.head()"
   ]
  },
  {
   "cell_type": "code",
   "execution_count": 98,
   "id": "dd271a38",
   "metadata": {},
   "outputs": [
    {
     "name": "stdout",
     "output_type": "stream",
     "text": [
      "trackable_type\n",
      "Symptom      3642279\n",
      "Weather      1393806\n",
      "Condition    1111517\n",
      "Treatment     901820\n",
      "Food          480971\n",
      "Tag           445669\n",
      "HBI              161\n",
      "Name: count, dtype: int64\n"
     ]
    }
   ],
   "source": [
    "trackable_type_value_counts = df_sex_dropped['trackable_type'].value_counts()\n",
    "print(trackable_type_value_counts)"
   ]
  },
  {
   "cell_type": "code",
   "execution_count": 99,
   "id": "f4e627f0",
   "metadata": {},
   "outputs": [
    {
     "name": "stdout",
     "output_type": "stream",
     "text": [
      "trackable_name\n",
      "humidity                            232334\n",
      "pressure                            232302\n",
      "precip_intensity                    232301\n",
      "temperature_min                     232301\n",
      "icon                                232301\n",
      "                                     ...  \n",
      "sugar dairy gluten free anything         1\n",
      "prednisilone                             1\n",
      "cuddled                                  1\n",
      "chocolate custard                        1\n",
      "poor productivity                        1\n",
      "Name: count, Length: 117214, dtype: int64\n"
     ]
    }
   ],
   "source": [
    "trackable_name_value_counts = df_sex_dropped['trackable_name'].value_counts()\n",
    "print(trackable_name_value_counts)"
   ]
  },
  {
   "cell_type": "code",
   "execution_count": 100,
   "id": "5d8937b7",
   "metadata": {},
   "outputs": [],
   "source": [
    "df_1 = df_sex_dropped[~df['trackable_type'].str.contains('Weather|Tag|HBI|Food')]"
   ]
  },
  {
   "cell_type": "code",
   "execution_count": 101,
   "id": "c1b2f5f7",
   "metadata": {},
   "outputs": [
    {
     "name": "stdout",
     "output_type": "stream",
     "text": [
      "         user_id   age country checkin_date trackable_id trackable_type   \n",
      "0           9070   NaN     NaN   2015-11-26         1069      Condition  \\\n",
      "1          22737  32.0      US   2015-11-26         1069      Condition   \n",
      "2            376   2.0      CA   2017-04-28         3168      Condition   \n",
      "3            376   2.0      CA   2017-04-28         3169      Condition   \n",
      "4            376   2.0      CA   2017-04-28         3170      Condition   \n",
      "...          ...   ...     ...          ...          ...            ...   \n",
      "7976213    38270  22.0      GB   2019-12-04         3368        Symptom   \n",
      "7976214    38270  22.0      GB   2019-12-04          153        Symptom   \n",
      "7976215    38270  22.0      GB   2019-12-04          242        Symptom   \n",
      "7976216    38270  22.0      GB   2019-12-04         1026        Symptom   \n",
      "7976217    38270  22.0      GB   2019-12-04        30924        Symptom   \n",
      "\n",
      "                                            trackable_name trackable_value   \n",
      "0                                       Ulcerative colitis               0  \\\n",
      "1                                       Ulcerative colitis               0   \n",
      "2        pain in left upper arm felt like i was getting...               4   \n",
      "3                                  hip pain when gettin up               3   \n",
      "4                                      pain in hand joints               4   \n",
      "...                                                    ...             ...   \n",
      "7976213                              difficulty getting up               4   \n",
      "7976214                                          Neck pain               2   \n",
      "7976215                                            Fatigue               3   \n",
      "7976216                                 Poor concentration               3   \n",
      "7976217                                  poor productivity               3   \n",
      "\n",
      "         sexR  \n",
      "0         NaN  \n",
      "1         0.0  \n",
      "2         1.0  \n",
      "3         1.0  \n",
      "4         1.0  \n",
      "...       ...  \n",
      "7976213   1.0  \n",
      "7976214   1.0  \n",
      "7976215   1.0  \n",
      "7976216   1.0  \n",
      "7976217   1.0  \n",
      "\n",
      "[5655616 rows x 9 columns]\n"
     ]
    }
   ],
   "source": [
    "print(df_1)"
   ]
  },
  {
   "cell_type": "code",
   "execution_count": 102,
   "id": "00584327",
   "metadata": {},
   "outputs": [
    {
     "data": {
      "text/plain": [
       "trackable_type\n",
       "Symptom      3642279\n",
       "Condition    1111517\n",
       "Treatment     901820\n",
       "Name: count, dtype: int64"
      ]
     },
     "execution_count": 102,
     "metadata": {},
     "output_type": "execute_result"
    }
   ],
   "source": [
    "df_1['trackable_type'].value_counts()"
   ]
  },
  {
   "cell_type": "code",
   "execution_count": 103,
   "id": "78759534",
   "metadata": {},
   "outputs": [
    {
     "data": {
      "text/plain": [
       "user_id            41461\n",
       "age                  100\n",
       "country              160\n",
       "checkin_date        1669\n",
       "trackable_id       27735\n",
       "trackable_type         3\n",
       "trackable_name     39275\n",
       "trackable_value    14484\n",
       "sexR                   4\n",
       "dtype: int64"
      ]
     },
     "execution_count": 103,
     "metadata": {},
     "output_type": "execute_result"
    }
   ],
   "source": [
    "df_1.nunique()"
   ]
  },
  {
   "cell_type": "code",
   "execution_count": 104,
   "id": "b085b044",
   "metadata": {
    "scrolled": false
   },
   "outputs": [],
   "source": [
    "df_1_condition = df_1[df_1['trackable_type'].isin(['Condition'])]"
   ]
  },
  {
   "cell_type": "code",
   "execution_count": 105,
   "id": "763bb486",
   "metadata": {},
   "outputs": [
    {
     "data": {
      "text/html": [
       "<div>\n",
       "<style scoped>\n",
       "    .dataframe tbody tr th:only-of-type {\n",
       "        vertical-align: middle;\n",
       "    }\n",
       "\n",
       "    .dataframe tbody tr th {\n",
       "        vertical-align: top;\n",
       "    }\n",
       "\n",
       "    .dataframe thead th {\n",
       "        text-align: right;\n",
       "    }\n",
       "</style>\n",
       "<table border=\"1\" class=\"dataframe\">\n",
       "  <thead>\n",
       "    <tr style=\"text-align: right;\">\n",
       "      <th></th>\n",
       "      <th>user_id</th>\n",
       "      <th>age</th>\n",
       "      <th>country</th>\n",
       "      <th>checkin_date</th>\n",
       "      <th>trackable_id</th>\n",
       "      <th>trackable_type</th>\n",
       "      <th>trackable_name</th>\n",
       "      <th>trackable_value</th>\n",
       "      <th>sexR</th>\n",
       "    </tr>\n",
       "  </thead>\n",
       "  <tbody>\n",
       "    <tr>\n",
       "      <th>0</th>\n",
       "      <td>9070</td>\n",
       "      <td>NaN</td>\n",
       "      <td>NaN</td>\n",
       "      <td>2015-11-26</td>\n",
       "      <td>1069</td>\n",
       "      <td>Condition</td>\n",
       "      <td>Ulcerative colitis</td>\n",
       "      <td>0</td>\n",
       "      <td>NaN</td>\n",
       "    </tr>\n",
       "    <tr>\n",
       "      <th>1</th>\n",
       "      <td>22737</td>\n",
       "      <td>32.0</td>\n",
       "      <td>US</td>\n",
       "      <td>2015-11-26</td>\n",
       "      <td>1069</td>\n",
       "      <td>Condition</td>\n",
       "      <td>Ulcerative colitis</td>\n",
       "      <td>0</td>\n",
       "      <td>0.0</td>\n",
       "    </tr>\n",
       "    <tr>\n",
       "      <th>2</th>\n",
       "      <td>376</td>\n",
       "      <td>2.0</td>\n",
       "      <td>CA</td>\n",
       "      <td>2017-04-28</td>\n",
       "      <td>3168</td>\n",
       "      <td>Condition</td>\n",
       "      <td>pain in left upper arm felt like i was getting...</td>\n",
       "      <td>4</td>\n",
       "      <td>1.0</td>\n",
       "    </tr>\n",
       "    <tr>\n",
       "      <th>3</th>\n",
       "      <td>376</td>\n",
       "      <td>2.0</td>\n",
       "      <td>CA</td>\n",
       "      <td>2017-04-28</td>\n",
       "      <td>3169</td>\n",
       "      <td>Condition</td>\n",
       "      <td>hip pain when gettin up</td>\n",
       "      <td>3</td>\n",
       "      <td>1.0</td>\n",
       "    </tr>\n",
       "    <tr>\n",
       "      <th>4</th>\n",
       "      <td>376</td>\n",
       "      <td>2.0</td>\n",
       "      <td>CA</td>\n",
       "      <td>2017-04-28</td>\n",
       "      <td>3170</td>\n",
       "      <td>Condition</td>\n",
       "      <td>pain in hand joints</td>\n",
       "      <td>4</td>\n",
       "      <td>1.0</td>\n",
       "    </tr>\n",
       "  </tbody>\n",
       "</table>\n",
       "</div>"
      ],
      "text/plain": [
       "   user_id   age country checkin_date trackable_id trackable_type   \n",
       "0     9070   NaN     NaN   2015-11-26         1069      Condition  \\\n",
       "1    22737  32.0      US   2015-11-26         1069      Condition   \n",
       "2      376   2.0      CA   2017-04-28         3168      Condition   \n",
       "3      376   2.0      CA   2017-04-28         3169      Condition   \n",
       "4      376   2.0      CA   2017-04-28         3170      Condition   \n",
       "\n",
       "                                      trackable_name trackable_value  sexR  \n",
       "0                                 Ulcerative colitis               0   NaN  \n",
       "1                                 Ulcerative colitis               0   0.0  \n",
       "2  pain in left upper arm felt like i was getting...               4   1.0  \n",
       "3                            hip pain when gettin up               3   1.0  \n",
       "4                                pain in hand joints               4   1.0  "
      ]
     },
     "execution_count": 105,
     "metadata": {},
     "output_type": "execute_result"
    }
   ],
   "source": [
    "df_1_condition.head()"
   ]
  },
  {
   "cell_type": "code",
   "execution_count": 106,
   "id": "f18fac44",
   "metadata": {},
   "outputs": [
    {
     "data": {
      "text/plain": [
       "trackable_type\n",
       "Condition    1111517\n",
       "Name: count, dtype: int64"
      ]
     },
     "execution_count": 106,
     "metadata": {},
     "output_type": "execute_result"
    }
   ],
   "source": [
    "df_1_condition['trackable_type'].value_counts()"
   ]
  },
  {
   "cell_type": "code",
   "execution_count": 107,
   "id": "7df3b48e",
   "metadata": {},
   "outputs": [],
   "source": [
    "df_1_sypmtoms = df_1[df_1['trackable_type'].isin(['Symptom'])]"
   ]
  },
  {
   "cell_type": "code",
   "execution_count": 108,
   "id": "b2ec445e",
   "metadata": {},
   "outputs": [
    {
     "data": {
      "text/html": [
       "<div>\n",
       "<style scoped>\n",
       "    .dataframe tbody tr th:only-of-type {\n",
       "        vertical-align: middle;\n",
       "    }\n",
       "\n",
       "    .dataframe tbody tr th {\n",
       "        vertical-align: top;\n",
       "    }\n",
       "\n",
       "    .dataframe thead th {\n",
       "        text-align: right;\n",
       "    }\n",
       "</style>\n",
       "<table border=\"1\" class=\"dataframe\">\n",
       "  <thead>\n",
       "    <tr style=\"text-align: right;\">\n",
       "      <th></th>\n",
       "      <th>user_id</th>\n",
       "      <th>age</th>\n",
       "      <th>country</th>\n",
       "      <th>checkin_date</th>\n",
       "      <th>trackable_id</th>\n",
       "      <th>trackable_type</th>\n",
       "      <th>trackable_name</th>\n",
       "      <th>trackable_value</th>\n",
       "      <th>sexR</th>\n",
       "    </tr>\n",
       "  </thead>\n",
       "  <tbody>\n",
       "    <tr>\n",
       "      <th>15</th>\n",
       "      <td>376</td>\n",
       "      <td>2.0</td>\n",
       "      <td>CA</td>\n",
       "      <td>2017-04-28</td>\n",
       "      <td>123</td>\n",
       "      <td>Symptom</td>\n",
       "      <td>Joint stiffness</td>\n",
       "      <td>3</td>\n",
       "      <td>1.0</td>\n",
       "    </tr>\n",
       "    <tr>\n",
       "      <th>24</th>\n",
       "      <td>17088</td>\n",
       "      <td>NaN</td>\n",
       "      <td>NaN</td>\n",
       "      <td>2015-05-26</td>\n",
       "      <td>152</td>\n",
       "      <td>Symptom</td>\n",
       "      <td>Nausea</td>\n",
       "      <td>1</td>\n",
       "      <td>NaN</td>\n",
       "    </tr>\n",
       "    <tr>\n",
       "      <th>31</th>\n",
       "      <td>17088</td>\n",
       "      <td>NaN</td>\n",
       "      <td>NaN</td>\n",
       "      <td>2015-05-27</td>\n",
       "      <td>152</td>\n",
       "      <td>Symptom</td>\n",
       "      <td>Nausea</td>\n",
       "      <td>2</td>\n",
       "      <td>NaN</td>\n",
       "    </tr>\n",
       "    <tr>\n",
       "      <th>32</th>\n",
       "      <td>17088</td>\n",
       "      <td>NaN</td>\n",
       "      <td>NaN</td>\n",
       "      <td>2015-05-27</td>\n",
       "      <td>8</td>\n",
       "      <td>Symptom</td>\n",
       "      <td>Anxiety</td>\n",
       "      <td>2</td>\n",
       "      <td>NaN</td>\n",
       "    </tr>\n",
       "    <tr>\n",
       "      <th>33</th>\n",
       "      <td>17088</td>\n",
       "      <td>NaN</td>\n",
       "      <td>NaN</td>\n",
       "      <td>2015-05-27</td>\n",
       "      <td>242</td>\n",
       "      <td>Symptom</td>\n",
       "      <td>Fatigue</td>\n",
       "      <td>1</td>\n",
       "      <td>NaN</td>\n",
       "    </tr>\n",
       "  </tbody>\n",
       "</table>\n",
       "</div>"
      ],
      "text/plain": [
       "    user_id  age country checkin_date trackable_id trackable_type   \n",
       "15      376  2.0      CA   2017-04-28          123        Symptom  \\\n",
       "24    17088  NaN     NaN   2015-05-26          152        Symptom   \n",
       "31    17088  NaN     NaN   2015-05-27          152        Symptom   \n",
       "32    17088  NaN     NaN   2015-05-27            8        Symptom   \n",
       "33    17088  NaN     NaN   2015-05-27          242        Symptom   \n",
       "\n",
       "     trackable_name trackable_value  sexR  \n",
       "15  Joint stiffness               3   1.0  \n",
       "24           Nausea               1   NaN  \n",
       "31           Nausea               2   NaN  \n",
       "32          Anxiety               2   NaN  \n",
       "33          Fatigue               1   NaN  "
      ]
     },
     "execution_count": 108,
     "metadata": {},
     "output_type": "execute_result"
    }
   ],
   "source": [
    "df_1_sypmtoms.head()"
   ]
  },
  {
   "cell_type": "code",
   "execution_count": 109,
   "id": "caf84cac",
   "metadata": {},
   "outputs": [
    {
     "data": {
      "text/plain": [
       "trackable_type\n",
       "Symptom    3642279\n",
       "Name: count, dtype: int64"
      ]
     },
     "execution_count": 109,
     "metadata": {},
     "output_type": "execute_result"
    }
   ],
   "source": [
    "df_1_sypmtoms['trackable_type'].value_counts()"
   ]
  },
  {
   "cell_type": "code",
   "execution_count": 110,
   "id": "335b063a",
   "metadata": {},
   "outputs": [],
   "source": [
    "df_1_treatment = df_1[df_1['trackable_type'].isin(['Treatment'])]"
   ]
  },
  {
   "cell_type": "code",
   "execution_count": 111,
   "id": "eed77475",
   "metadata": {},
   "outputs": [
    {
     "data": {
      "text/html": [
       "<div>\n",
       "<style scoped>\n",
       "    .dataframe tbody tr th:only-of-type {\n",
       "        vertical-align: middle;\n",
       "    }\n",
       "\n",
       "    .dataframe tbody tr th {\n",
       "        vertical-align: top;\n",
       "    }\n",
       "\n",
       "    .dataframe thead th {\n",
       "        text-align: right;\n",
       "    }\n",
       "</style>\n",
       "<table border=\"1\" class=\"dataframe\">\n",
       "  <thead>\n",
       "    <tr style=\"text-align: right;\">\n",
       "      <th></th>\n",
       "      <th>user_id</th>\n",
       "      <th>age</th>\n",
       "      <th>country</th>\n",
       "      <th>checkin_date</th>\n",
       "      <th>trackable_id</th>\n",
       "      <th>trackable_type</th>\n",
       "      <th>trackable_name</th>\n",
       "      <th>trackable_value</th>\n",
       "      <th>sexR</th>\n",
       "    </tr>\n",
       "  </thead>\n",
       "  <tbody>\n",
       "    <tr>\n",
       "      <th>25</th>\n",
       "      <td>17088</td>\n",
       "      <td>NaN</td>\n",
       "      <td>NaN</td>\n",
       "      <td>2015-05-26</td>\n",
       "      <td>9890</td>\n",
       "      <td>Treatment</td>\n",
       "      <td>Zofran</td>\n",
       "      <td>8.0 mg</td>\n",
       "      <td>NaN</td>\n",
       "    </tr>\n",
       "    <tr>\n",
       "      <th>34</th>\n",
       "      <td>17088</td>\n",
       "      <td>NaN</td>\n",
       "      <td>NaN</td>\n",
       "      <td>2015-05-27</td>\n",
       "      <td>9890</td>\n",
       "      <td>Treatment</td>\n",
       "      <td>Zofran</td>\n",
       "      <td>4.0 mg</td>\n",
       "      <td>NaN</td>\n",
       "    </tr>\n",
       "    <tr>\n",
       "      <th>35</th>\n",
       "      <td>17088</td>\n",
       "      <td>NaN</td>\n",
       "      <td>NaN</td>\n",
       "      <td>2015-05-27</td>\n",
       "      <td>4934</td>\n",
       "      <td>Treatment</td>\n",
       "      <td>Klonopin</td>\n",
       "      <td>0.5 mg</td>\n",
       "      <td>NaN</td>\n",
       "    </tr>\n",
       "    <tr>\n",
       "      <th>201</th>\n",
       "      <td>1451</td>\n",
       "      <td>37.0</td>\n",
       "      <td>US</td>\n",
       "      <td>2015-05-26</td>\n",
       "      <td>1470</td>\n",
       "      <td>Treatment</td>\n",
       "      <td>Caffeine</td>\n",
       "      <td>100.0 mg</td>\n",
       "      <td>1.0</td>\n",
       "    </tr>\n",
       "    <tr>\n",
       "      <th>202</th>\n",
       "      <td>1451</td>\n",
       "      <td>37.0</td>\n",
       "      <td>US</td>\n",
       "      <td>2015-05-26</td>\n",
       "      <td>5681</td>\n",
       "      <td>Treatment</td>\n",
       "      <td>Methadone</td>\n",
       "      <td>20.0 mg</td>\n",
       "      <td>1.0</td>\n",
       "    </tr>\n",
       "  </tbody>\n",
       "</table>\n",
       "</div>"
      ],
      "text/plain": [
       "     user_id   age country checkin_date trackable_id trackable_type   \n",
       "25     17088   NaN     NaN   2015-05-26         9890      Treatment  \\\n",
       "34     17088   NaN     NaN   2015-05-27         9890      Treatment   \n",
       "35     17088   NaN     NaN   2015-05-27         4934      Treatment   \n",
       "201     1451  37.0      US   2015-05-26         1470      Treatment   \n",
       "202     1451  37.0      US   2015-05-26         5681      Treatment   \n",
       "\n",
       "    trackable_name trackable_value  sexR  \n",
       "25          Zofran          8.0 mg   NaN  \n",
       "34          Zofran          4.0 mg   NaN  \n",
       "35        Klonopin          0.5 mg   NaN  \n",
       "201       Caffeine        100.0 mg   1.0  \n",
       "202      Methadone         20.0 mg   1.0  "
      ]
     },
     "execution_count": 111,
     "metadata": {},
     "output_type": "execute_result"
    }
   ],
   "source": [
    "df_1_treatment.head()"
   ]
  },
  {
   "cell_type": "code",
   "execution_count": 112,
   "id": "a4f1b02e",
   "metadata": {},
   "outputs": [
    {
     "data": {
      "text/plain": [
       "trackable_type\n",
       "Treatment    901820\n",
       "Name: count, dtype: int64"
      ]
     },
     "execution_count": 112,
     "metadata": {},
     "output_type": "execute_result"
    }
   ],
   "source": [
    "df_1_treatment['trackable_type'].value_counts()"
   ]
  },
  {
   "cell_type": "code",
   "execution_count": 113,
   "id": "28a2be4e",
   "metadata": {},
   "outputs": [],
   "source": [
    "df_1_treatment_Zofran = df_1[df_1['trackable_name'].isin(['Zofran'])]"
   ]
  },
  {
   "cell_type": "code",
   "execution_count": 114,
   "id": "54001cec",
   "metadata": {},
   "outputs": [
    {
     "data": {
      "text/html": [
       "<div>\n",
       "<style scoped>\n",
       "    .dataframe tbody tr th:only-of-type {\n",
       "        vertical-align: middle;\n",
       "    }\n",
       "\n",
       "    .dataframe tbody tr th {\n",
       "        vertical-align: top;\n",
       "    }\n",
       "\n",
       "    .dataframe thead th {\n",
       "        text-align: right;\n",
       "    }\n",
       "</style>\n",
       "<table border=\"1\" class=\"dataframe\">\n",
       "  <thead>\n",
       "    <tr style=\"text-align: right;\">\n",
       "      <th></th>\n",
       "      <th>user_id</th>\n",
       "      <th>age</th>\n",
       "      <th>country</th>\n",
       "      <th>checkin_date</th>\n",
       "      <th>trackable_id</th>\n",
       "      <th>trackable_type</th>\n",
       "      <th>trackable_name</th>\n",
       "      <th>trackable_value</th>\n",
       "      <th>sexR</th>\n",
       "    </tr>\n",
       "  </thead>\n",
       "  <tbody>\n",
       "    <tr>\n",
       "      <th>25</th>\n",
       "      <td>17088</td>\n",
       "      <td>NaN</td>\n",
       "      <td>NaN</td>\n",
       "      <td>2015-05-26</td>\n",
       "      <td>9890</td>\n",
       "      <td>Treatment</td>\n",
       "      <td>Zofran</td>\n",
       "      <td>8.0 mg</td>\n",
       "      <td>NaN</td>\n",
       "    </tr>\n",
       "    <tr>\n",
       "      <th>34</th>\n",
       "      <td>17088</td>\n",
       "      <td>NaN</td>\n",
       "      <td>NaN</td>\n",
       "      <td>2015-05-27</td>\n",
       "      <td>9890</td>\n",
       "      <td>Treatment</td>\n",
       "      <td>Zofran</td>\n",
       "      <td>4.0 mg</td>\n",
       "      <td>NaN</td>\n",
       "    </tr>\n",
       "    <tr>\n",
       "      <th>4631</th>\n",
       "      <td>4136</td>\n",
       "      <td>20.0</td>\n",
       "      <td>US</td>\n",
       "      <td>2019-07-24</td>\n",
       "      <td>9890</td>\n",
       "      <td>Treatment</td>\n",
       "      <td>Zofran</td>\n",
       "      <td>1 x 4mg every 8 hours</td>\n",
       "      <td>1.0</td>\n",
       "    </tr>\n",
       "    <tr>\n",
       "      <th>49254</th>\n",
       "      <td>29918</td>\n",
       "      <td>NaN</td>\n",
       "      <td>NaN</td>\n",
       "      <td>2015-12-20</td>\n",
       "      <td>9890</td>\n",
       "      <td>Treatment</td>\n",
       "      <td>Zofran</td>\n",
       "      <td>4.0 mg</td>\n",
       "      <td>NaN</td>\n",
       "    </tr>\n",
       "    <tr>\n",
       "      <th>49785</th>\n",
       "      <td>9253</td>\n",
       "      <td>69.0</td>\n",
       "      <td>US</td>\n",
       "      <td>2015-12-20</td>\n",
       "      <td>9890</td>\n",
       "      <td>Treatment</td>\n",
       "      <td>Zofran</td>\n",
       "      <td>4.0 mg</td>\n",
       "      <td>1.0</td>\n",
       "    </tr>\n",
       "  </tbody>\n",
       "</table>\n",
       "</div>"
      ],
      "text/plain": [
       "       user_id   age country checkin_date trackable_id trackable_type   \n",
       "25       17088   NaN     NaN   2015-05-26         9890      Treatment  \\\n",
       "34       17088   NaN     NaN   2015-05-27         9890      Treatment   \n",
       "4631      4136  20.0      US   2019-07-24         9890      Treatment   \n",
       "49254    29918   NaN     NaN   2015-12-20         9890      Treatment   \n",
       "49785     9253  69.0      US   2015-12-20         9890      Treatment   \n",
       "\n",
       "      trackable_name        trackable_value  sexR  \n",
       "25            Zofran                 8.0 mg   NaN  \n",
       "34            Zofran                 4.0 mg   NaN  \n",
       "4631          Zofran  1 x 4mg every 8 hours   1.0  \n",
       "49254         Zofran                 4.0 mg   NaN  \n",
       "49785         Zofran                 4.0 mg   1.0  "
      ]
     },
     "execution_count": 114,
     "metadata": {},
     "output_type": "execute_result"
    }
   ],
   "source": [
    "df_1_treatment_Zofran.head()"
   ]
  },
  {
   "cell_type": "code",
   "execution_count": 115,
   "id": "0eb8abde",
   "metadata": {},
   "outputs": [
    {
     "data": {
      "text/plain": [
       "trackable_name\n",
       "Zofran    2329\n",
       "Name: count, dtype: int64"
      ]
     },
     "execution_count": 115,
     "metadata": {},
     "output_type": "execute_result"
    }
   ],
   "source": [
    "df_1_treatment_Zofran['trackable_name'].value_counts()"
   ]
  },
  {
   "cell_type": "code",
   "execution_count": 116,
   "id": "1193ce51",
   "metadata": {},
   "outputs": [],
   "source": [
    "df_1_sypmtoms_Nausea = df_1[df_1['trackable_name'].isin(['Nausea'])]"
   ]
  },
  {
   "cell_type": "code",
   "execution_count": 117,
   "id": "ef8752cc",
   "metadata": {},
   "outputs": [
    {
     "data": {
      "text/html": [
       "<div>\n",
       "<style scoped>\n",
       "    .dataframe tbody tr th:only-of-type {\n",
       "        vertical-align: middle;\n",
       "    }\n",
       "\n",
       "    .dataframe tbody tr th {\n",
       "        vertical-align: top;\n",
       "    }\n",
       "\n",
       "    .dataframe thead th {\n",
       "        text-align: right;\n",
       "    }\n",
       "</style>\n",
       "<table border=\"1\" class=\"dataframe\">\n",
       "  <thead>\n",
       "    <tr style=\"text-align: right;\">\n",
       "      <th></th>\n",
       "      <th>user_id</th>\n",
       "      <th>age</th>\n",
       "      <th>country</th>\n",
       "      <th>checkin_date</th>\n",
       "      <th>trackable_id</th>\n",
       "      <th>trackable_type</th>\n",
       "      <th>trackable_name</th>\n",
       "      <th>trackable_value</th>\n",
       "      <th>sexR</th>\n",
       "    </tr>\n",
       "  </thead>\n",
       "  <tbody>\n",
       "    <tr>\n",
       "      <th>24</th>\n",
       "      <td>17088</td>\n",
       "      <td>NaN</td>\n",
       "      <td>NaN</td>\n",
       "      <td>2015-05-26</td>\n",
       "      <td>152</td>\n",
       "      <td>Symptom</td>\n",
       "      <td>Nausea</td>\n",
       "      <td>1</td>\n",
       "      <td>NaN</td>\n",
       "    </tr>\n",
       "    <tr>\n",
       "      <th>31</th>\n",
       "      <td>17088</td>\n",
       "      <td>NaN</td>\n",
       "      <td>NaN</td>\n",
       "      <td>2015-05-27</td>\n",
       "      <td>152</td>\n",
       "      <td>Symptom</td>\n",
       "      <td>Nausea</td>\n",
       "      <td>2</td>\n",
       "      <td>NaN</td>\n",
       "    </tr>\n",
       "    <tr>\n",
       "      <th>43</th>\n",
       "      <td>17088</td>\n",
       "      <td>NaN</td>\n",
       "      <td>NaN</td>\n",
       "      <td>2015-06-10</td>\n",
       "      <td>152</td>\n",
       "      <td>Symptom</td>\n",
       "      <td>Nausea</td>\n",
       "      <td>1</td>\n",
       "      <td>NaN</td>\n",
       "    </tr>\n",
       "    <tr>\n",
       "      <th>51</th>\n",
       "      <td>17088</td>\n",
       "      <td>NaN</td>\n",
       "      <td>NaN</td>\n",
       "      <td>2015-06-11</td>\n",
       "      <td>152</td>\n",
       "      <td>Symptom</td>\n",
       "      <td>Nausea</td>\n",
       "      <td>0</td>\n",
       "      <td>NaN</td>\n",
       "    </tr>\n",
       "    <tr>\n",
       "      <th>60</th>\n",
       "      <td>17088</td>\n",
       "      <td>NaN</td>\n",
       "      <td>NaN</td>\n",
       "      <td>2015-06-14</td>\n",
       "      <td>152</td>\n",
       "      <td>Symptom</td>\n",
       "      <td>Nausea</td>\n",
       "      <td>0</td>\n",
       "      <td>NaN</td>\n",
       "    </tr>\n",
       "  </tbody>\n",
       "</table>\n",
       "</div>"
      ],
      "text/plain": [
       "    user_id  age country checkin_date trackable_id trackable_type   \n",
       "24    17088  NaN     NaN   2015-05-26          152        Symptom  \\\n",
       "31    17088  NaN     NaN   2015-05-27          152        Symptom   \n",
       "43    17088  NaN     NaN   2015-06-10          152        Symptom   \n",
       "51    17088  NaN     NaN   2015-06-11          152        Symptom   \n",
       "60    17088  NaN     NaN   2015-06-14          152        Symptom   \n",
       "\n",
       "   trackable_name trackable_value  sexR  \n",
       "24         Nausea               1   NaN  \n",
       "31         Nausea               2   NaN  \n",
       "43         Nausea               1   NaN  \n",
       "51         Nausea               0   NaN  \n",
       "60         Nausea               0   NaN  "
      ]
     },
     "execution_count": 117,
     "metadata": {},
     "output_type": "execute_result"
    }
   ],
   "source": [
    "df_1_sypmtoms_Nausea.head()"
   ]
  },
  {
   "cell_type": "markdown",
   "id": "e6df0100",
   "metadata": {},
   "source": [
    "Correlation Matrices"
   ]
  },
  {
   "cell_type": "markdown",
   "id": "2a47277f",
   "metadata": {},
   "source": [
    "Conditions"
   ]
  },
  {
   "cell_type": "code",
   "execution_count": 118,
   "id": "4cb148cf",
   "metadata": {},
   "outputs": [
    {
     "ename": "ValueError",
     "evalue": "could not convert string to float: 'US'",
     "output_type": "error",
     "traceback": [
      "\u001b[1;31m---------------------------------------------------------------------------\u001b[0m",
      "\u001b[1;31mValueError\u001b[0m                                Traceback (most recent call last)",
      "Cell \u001b[1;32mIn[118], line 1\u001b[0m\n\u001b[1;32m----> 1\u001b[0m condition_correlation_matrix\u001b[38;5;241m=\u001b[39m\u001b[43mdf_1_condition\u001b[49m\u001b[38;5;241;43m.\u001b[39;49m\u001b[43mcorr\u001b[49m\u001b[43m(\u001b[49m\u001b[43m)\u001b[49m\n",
      "File \u001b[1;32mC:\\Python3\\Lib\\site-packages\\pandas\\core\\frame.py:10054\u001b[0m, in \u001b[0;36mDataFrame.corr\u001b[1;34m(self, method, min_periods, numeric_only)\u001b[0m\n\u001b[0;32m  10052\u001b[0m cols \u001b[38;5;241m=\u001b[39m data\u001b[38;5;241m.\u001b[39mcolumns\n\u001b[0;32m  10053\u001b[0m idx \u001b[38;5;241m=\u001b[39m cols\u001b[38;5;241m.\u001b[39mcopy()\n\u001b[1;32m> 10054\u001b[0m mat \u001b[38;5;241m=\u001b[39m \u001b[43mdata\u001b[49m\u001b[38;5;241;43m.\u001b[39;49m\u001b[43mto_numpy\u001b[49m\u001b[43m(\u001b[49m\u001b[43mdtype\u001b[49m\u001b[38;5;241;43m=\u001b[39;49m\u001b[38;5;28;43mfloat\u001b[39;49m\u001b[43m,\u001b[49m\u001b[43m \u001b[49m\u001b[43mna_value\u001b[49m\u001b[38;5;241;43m=\u001b[39;49m\u001b[43mnp\u001b[49m\u001b[38;5;241;43m.\u001b[39;49m\u001b[43mnan\u001b[49m\u001b[43m,\u001b[49m\u001b[43m \u001b[49m\u001b[43mcopy\u001b[49m\u001b[38;5;241;43m=\u001b[39;49m\u001b[38;5;28;43;01mFalse\u001b[39;49;00m\u001b[43m)\u001b[49m\n\u001b[0;32m  10056\u001b[0m \u001b[38;5;28;01mif\u001b[39;00m method \u001b[38;5;241m==\u001b[39m \u001b[38;5;124m\"\u001b[39m\u001b[38;5;124mpearson\u001b[39m\u001b[38;5;124m\"\u001b[39m:\n\u001b[0;32m  10057\u001b[0m     correl \u001b[38;5;241m=\u001b[39m libalgos\u001b[38;5;241m.\u001b[39mnancorr(mat, minp\u001b[38;5;241m=\u001b[39mmin_periods)\n",
      "File \u001b[1;32mC:\\Python3\\Lib\\site-packages\\pandas\\core\\frame.py:1837\u001b[0m, in \u001b[0;36mDataFrame.to_numpy\u001b[1;34m(self, dtype, copy, na_value)\u001b[0m\n\u001b[0;32m   1835\u001b[0m \u001b[38;5;28;01mif\u001b[39;00m dtype \u001b[38;5;129;01mis\u001b[39;00m \u001b[38;5;129;01mnot\u001b[39;00m \u001b[38;5;28;01mNone\u001b[39;00m:\n\u001b[0;32m   1836\u001b[0m     dtype \u001b[38;5;241m=\u001b[39m np\u001b[38;5;241m.\u001b[39mdtype(dtype)\n\u001b[1;32m-> 1837\u001b[0m result \u001b[38;5;241m=\u001b[39m \u001b[38;5;28;43mself\u001b[39;49m\u001b[38;5;241;43m.\u001b[39;49m\u001b[43m_mgr\u001b[49m\u001b[38;5;241;43m.\u001b[39;49m\u001b[43mas_array\u001b[49m\u001b[43m(\u001b[49m\u001b[43mdtype\u001b[49m\u001b[38;5;241;43m=\u001b[39;49m\u001b[43mdtype\u001b[49m\u001b[43m,\u001b[49m\u001b[43m \u001b[49m\u001b[43mcopy\u001b[49m\u001b[38;5;241;43m=\u001b[39;49m\u001b[43mcopy\u001b[49m\u001b[43m,\u001b[49m\u001b[43m \u001b[49m\u001b[43mna_value\u001b[49m\u001b[38;5;241;43m=\u001b[39;49m\u001b[43mna_value\u001b[49m\u001b[43m)\u001b[49m\n\u001b[0;32m   1838\u001b[0m \u001b[38;5;28;01mif\u001b[39;00m result\u001b[38;5;241m.\u001b[39mdtype \u001b[38;5;129;01mis\u001b[39;00m \u001b[38;5;129;01mnot\u001b[39;00m dtype:\n\u001b[0;32m   1839\u001b[0m     result \u001b[38;5;241m=\u001b[39m np\u001b[38;5;241m.\u001b[39marray(result, dtype\u001b[38;5;241m=\u001b[39mdtype, copy\u001b[38;5;241m=\u001b[39m\u001b[38;5;28;01mFalse\u001b[39;00m)\n",
      "File \u001b[1;32mC:\\Python3\\Lib\\site-packages\\pandas\\core\\internals\\managers.py:1732\u001b[0m, in \u001b[0;36mBlockManager.as_array\u001b[1;34m(self, dtype, copy, na_value)\u001b[0m\n\u001b[0;32m   1730\u001b[0m         arr\u001b[38;5;241m.\u001b[39mflags\u001b[38;5;241m.\u001b[39mwriteable \u001b[38;5;241m=\u001b[39m \u001b[38;5;28;01mFalse\u001b[39;00m\n\u001b[0;32m   1731\u001b[0m \u001b[38;5;28;01melse\u001b[39;00m:\n\u001b[1;32m-> 1732\u001b[0m     arr \u001b[38;5;241m=\u001b[39m \u001b[38;5;28;43mself\u001b[39;49m\u001b[38;5;241;43m.\u001b[39;49m\u001b[43m_interleave\u001b[49m\u001b[43m(\u001b[49m\u001b[43mdtype\u001b[49m\u001b[38;5;241;43m=\u001b[39;49m\u001b[43mdtype\u001b[49m\u001b[43m,\u001b[49m\u001b[43m \u001b[49m\u001b[43mna_value\u001b[49m\u001b[38;5;241;43m=\u001b[39;49m\u001b[43mna_value\u001b[49m\u001b[43m)\u001b[49m\n\u001b[0;32m   1733\u001b[0m     \u001b[38;5;66;03m# The underlying data was copied within _interleave, so no need\u001b[39;00m\n\u001b[0;32m   1734\u001b[0m     \u001b[38;5;66;03m# to further copy if copy=True or setting na_value\u001b[39;00m\n\u001b[0;32m   1736\u001b[0m \u001b[38;5;28;01mif\u001b[39;00m na_value \u001b[38;5;129;01mis\u001b[39;00m \u001b[38;5;129;01mnot\u001b[39;00m lib\u001b[38;5;241m.\u001b[39mno_default:\n",
      "File \u001b[1;32mC:\\Python3\\Lib\\site-packages\\pandas\\core\\internals\\managers.py:1794\u001b[0m, in \u001b[0;36mBlockManager._interleave\u001b[1;34m(self, dtype, na_value)\u001b[0m\n\u001b[0;32m   1792\u001b[0m     \u001b[38;5;28;01melse\u001b[39;00m:\n\u001b[0;32m   1793\u001b[0m         arr \u001b[38;5;241m=\u001b[39m blk\u001b[38;5;241m.\u001b[39mget_values(dtype)\n\u001b[1;32m-> 1794\u001b[0m     \u001b[43mresult\u001b[49m\u001b[43m[\u001b[49m\u001b[43mrl\u001b[49m\u001b[38;5;241;43m.\u001b[39;49m\u001b[43mindexer\u001b[49m\u001b[43m]\u001b[49m \u001b[38;5;241m=\u001b[39m arr\n\u001b[0;32m   1795\u001b[0m     itemmask[rl\u001b[38;5;241m.\u001b[39mindexer] \u001b[38;5;241m=\u001b[39m \u001b[38;5;241m1\u001b[39m\n\u001b[0;32m   1797\u001b[0m \u001b[38;5;28;01mif\u001b[39;00m \u001b[38;5;129;01mnot\u001b[39;00m itemmask\u001b[38;5;241m.\u001b[39mall():\n",
      "\u001b[1;31mValueError\u001b[0m: could not convert string to float: 'US'"
     ]
    }
   ],
   "source": [
    "condition_correlation_matrix=df_1_condition.corr()"
   ]
  },
  {
   "cell_type": "code",
   "execution_count": null,
   "id": "e976cb7f",
   "metadata": {},
   "outputs": [],
   "source": [
    "df_1_condition.head()\n"
   ]
  }
 ],
 "metadata": {
  "kernelspec": {
   "display_name": "Python 3 (ipykernel)",
   "language": "python",
   "name": "python3"
  },
  "language_info": {
   "codemirror_mode": {
    "name": "ipython",
    "version": 3
   },
   "file_extension": ".py",
   "mimetype": "text/x-python",
   "name": "python",
   "nbconvert_exporter": "python",
   "pygments_lexer": "ipython3",
   "version": "3.11.0"
  }
 },
 "nbformat": 4,
 "nbformat_minor": 5
}
