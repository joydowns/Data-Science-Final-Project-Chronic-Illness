{
 "cells": [
  {
   "cell_type": "code",
   "execution_count": 1,
   "id": "bea485e5",
   "metadata": {},
   "outputs": [],
   "source": [
    "import numpy as np\n",
    "import pandas as pd\n",
    "import matplotlib\n",
    "import matplotlib.pyplot as plt\n",
    "import seaborn as sns"
   ]
  },
  {
   "cell_type": "code",
   "execution_count": 2,
   "id": "bfe97c3e",
   "metadata": {},
   "outputs": [],
   "source": [
    "df = pd.read_csv(\"C:/Users/joi_ryde/Desktop/Woz U/Final Group Project/Lesson01 Group Project Week 1/Chronic Illness - Symptoms, Treatments & Triggers/export.csv\", low_memory=False)"
   ]
  },
  {
   "cell_type": "code",
   "execution_count": 3,
   "id": "a43a9949",
   "metadata": {},
   "outputs": [
    {
     "data": {
      "text/html": [
       "<div>\n",
       "<style scoped>\n",
       "    .dataframe tbody tr th:only-of-type {\n",
       "        vertical-align: middle;\n",
       "    }\n",
       "\n",
       "    .dataframe tbody tr th {\n",
       "        vertical-align: top;\n",
       "    }\n",
       "\n",
       "    .dataframe thead th {\n",
       "        text-align: right;\n",
       "    }\n",
       "</style>\n",
       "<table border=\"1\" class=\"dataframe\">\n",
       "  <thead>\n",
       "    <tr style=\"text-align: right;\">\n",
       "      <th></th>\n",
       "      <th>user_id</th>\n",
       "      <th>age</th>\n",
       "      <th>sex</th>\n",
       "      <th>country</th>\n",
       "      <th>checkin_date</th>\n",
       "      <th>trackable_id</th>\n",
       "      <th>trackable_type</th>\n",
       "      <th>trackable_name</th>\n",
       "      <th>trackable_value</th>\n",
       "    </tr>\n",
       "  </thead>\n",
       "  <tbody>\n",
       "    <tr>\n",
       "      <th>0</th>\n",
       "      <td>QEVuQwEABlEzkh7fsBBjEe26RyIVcg==</td>\n",
       "      <td>NaN</td>\n",
       "      <td>NaN</td>\n",
       "      <td>NaN</td>\n",
       "      <td>2015-11-26</td>\n",
       "      <td>1069</td>\n",
       "      <td>Condition</td>\n",
       "      <td>Ulcerative colitis</td>\n",
       "      <td>0</td>\n",
       "    </tr>\n",
       "    <tr>\n",
       "      <th>1</th>\n",
       "      <td>QEVuQwEAWRNGnuTRqXG2996KSkTIEw==</td>\n",
       "      <td>32.0</td>\n",
       "      <td>male</td>\n",
       "      <td>US</td>\n",
       "      <td>2015-11-26</td>\n",
       "      <td>1069</td>\n",
       "      <td>Condition</td>\n",
       "      <td>Ulcerative colitis</td>\n",
       "      <td>0</td>\n",
       "    </tr>\n",
       "    <tr>\n",
       "      <th>2</th>\n",
       "      <td>QEVuQwEA+WkNxtp/qkHvN2YmTBBDqg==</td>\n",
       "      <td>2.0</td>\n",
       "      <td>female</td>\n",
       "      <td>CA</td>\n",
       "      <td>2017-04-28</td>\n",
       "      <td>3168</td>\n",
       "      <td>Condition</td>\n",
       "      <td>pain in left upper arm felt like i was getting...</td>\n",
       "      <td>4</td>\n",
       "    </tr>\n",
       "    <tr>\n",
       "      <th>3</th>\n",
       "      <td>QEVuQwEA+WkNxtp/qkHvN2YmTBBDqg==</td>\n",
       "      <td>2.0</td>\n",
       "      <td>female</td>\n",
       "      <td>CA</td>\n",
       "      <td>2017-04-28</td>\n",
       "      <td>3169</td>\n",
       "      <td>Condition</td>\n",
       "      <td>hip pain when gettin up</td>\n",
       "      <td>3</td>\n",
       "    </tr>\n",
       "    <tr>\n",
       "      <th>4</th>\n",
       "      <td>QEVuQwEA+WkNxtp/qkHvN2YmTBBDqg==</td>\n",
       "      <td>2.0</td>\n",
       "      <td>female</td>\n",
       "      <td>CA</td>\n",
       "      <td>2017-04-28</td>\n",
       "      <td>3170</td>\n",
       "      <td>Condition</td>\n",
       "      <td>pain in hand joints</td>\n",
       "      <td>4</td>\n",
       "    </tr>\n",
       "  </tbody>\n",
       "</table>\n",
       "</div>"
      ],
      "text/plain": [
       "                            user_id   age     sex country checkin_date   \n",
       "0  QEVuQwEABlEzkh7fsBBjEe26RyIVcg==   NaN     NaN     NaN   2015-11-26  \\\n",
       "1  QEVuQwEAWRNGnuTRqXG2996KSkTIEw==  32.0    male      US   2015-11-26   \n",
       "2  QEVuQwEA+WkNxtp/qkHvN2YmTBBDqg==   2.0  female      CA   2017-04-28   \n",
       "3  QEVuQwEA+WkNxtp/qkHvN2YmTBBDqg==   2.0  female      CA   2017-04-28   \n",
       "4  QEVuQwEA+WkNxtp/qkHvN2YmTBBDqg==   2.0  female      CA   2017-04-28   \n",
       "\n",
       "  trackable_id trackable_type   \n",
       "0         1069      Condition  \\\n",
       "1         1069      Condition   \n",
       "2         3168      Condition   \n",
       "3         3169      Condition   \n",
       "4         3170      Condition   \n",
       "\n",
       "                                      trackable_name trackable_value  \n",
       "0                                 Ulcerative colitis               0  \n",
       "1                                 Ulcerative colitis               0  \n",
       "2  pain in left upper arm felt like i was getting...               4  \n",
       "3                            hip pain when gettin up               3  \n",
       "4                                pain in hand joints               4  "
      ]
     },
     "execution_count": 3,
     "metadata": {},
     "output_type": "execute_result"
    }
   ],
   "source": [
    "df.head()"
   ]
  },
  {
   "cell_type": "code",
   "execution_count": 4,
   "id": "bd06c5cf",
   "metadata": {},
   "outputs": [
    {
     "name": "stdout",
     "output_type": "stream",
     "text": [
      "<class 'pandas.core.frame.DataFrame'>\n",
      "RangeIndex: 7976223 entries, 0 to 7976222\n",
      "Data columns (total 9 columns):\n",
      " #   Column           Dtype  \n",
      "---  ------           -----  \n",
      " 0   user_id          object \n",
      " 1   age              float64\n",
      " 2   sex              object \n",
      " 3   country          object \n",
      " 4   checkin_date     object \n",
      " 5   trackable_id     object \n",
      " 6   trackable_type   object \n",
      " 7   trackable_name   object \n",
      " 8   trackable_value  object \n",
      "dtypes: float64(1), object(8)\n",
      "memory usage: 547.7+ MB\n"
     ]
    }
   ],
   "source": [
    "df.info()"
   ]
  },
  {
   "cell_type": "code",
   "execution_count": 5,
   "id": "f8d2bff0",
   "metadata": {},
   "outputs": [
    {
     "data": {
      "text/plain": [
       "user_id             42283\n",
       "age                   100\n",
       "sex                     4\n",
       "country               164\n",
       "checkin_date         1675\n",
       "trackable_id       222465\n",
       "trackable_type          7\n",
       "trackable_name     117214\n",
       "trackable_value     15960\n",
       "dtype: int64"
      ]
     },
     "execution_count": 5,
     "metadata": {},
     "output_type": "execute_result"
    }
   ],
   "source": [
    "df.nunique()"
   ]
  },
  {
   "cell_type": "code",
   "execution_count": 6,
   "id": "21398d07",
   "metadata": {},
   "outputs": [
    {
     "data": {
      "text/html": [
       "<div>\n",
       "<style scoped>\n",
       "    .dataframe tbody tr th:only-of-type {\n",
       "        vertical-align: middle;\n",
       "    }\n",
       "\n",
       "    .dataframe tbody tr th {\n",
       "        vertical-align: top;\n",
       "    }\n",
       "\n",
       "    .dataframe thead th {\n",
       "        text-align: right;\n",
       "    }\n",
       "</style>\n",
       "<table border=\"1\" class=\"dataframe\">\n",
       "  <thead>\n",
       "    <tr style=\"text-align: right;\">\n",
       "      <th></th>\n",
       "      <th>user_id</th>\n",
       "      <th>sex</th>\n",
       "      <th>country</th>\n",
       "      <th>checkin_date</th>\n",
       "      <th>trackable_id</th>\n",
       "      <th>trackable_type</th>\n",
       "      <th>trackable_name</th>\n",
       "      <th>trackable_value</th>\n",
       "    </tr>\n",
       "  </thead>\n",
       "  <tbody>\n",
       "    <tr>\n",
       "      <th>count</th>\n",
       "      <td>7976223</td>\n",
       "      <td>7844088</td>\n",
       "      <td>7678238</td>\n",
       "      <td>7976223</td>\n",
       "      <td>7976223</td>\n",
       "      <td>7976223</td>\n",
       "      <td>7976219</td>\n",
       "      <td>7049339</td>\n",
       "    </tr>\n",
       "    <tr>\n",
       "      <th>unique</th>\n",
       "      <td>42283</td>\n",
       "      <td>4</td>\n",
       "      <td>164</td>\n",
       "      <td>1675</td>\n",
       "      <td>222465</td>\n",
       "      <td>7</td>\n",
       "      <td>117214</td>\n",
       "      <td>15960</td>\n",
       "    </tr>\n",
       "    <tr>\n",
       "      <th>top</th>\n",
       "      <td>QEVuQwEAmS9U3RAfpAoxDeyaHuHfNQ==</td>\n",
       "      <td>female</td>\n",
       "      <td>US</td>\n",
       "      <td>2019-01-28</td>\n",
       "      <td>242</td>\n",
       "      <td>Symptom</td>\n",
       "      <td>humidity</td>\n",
       "      <td>0</td>\n",
       "    </tr>\n",
       "    <tr>\n",
       "      <th>freq</th>\n",
       "      <td>69187</td>\n",
       "      <td>6478402</td>\n",
       "      <td>4690209</td>\n",
       "      <td>10887</td>\n",
       "      <td>109093</td>\n",
       "      <td>3642279</td>\n",
       "      <td>232334</td>\n",
       "      <td>1385241</td>\n",
       "    </tr>\n",
       "  </tbody>\n",
       "</table>\n",
       "</div>"
      ],
      "text/plain": [
       "                                 user_id      sex  country checkin_date   \n",
       "count                            7976223  7844088  7678238      7976223  \\\n",
       "unique                             42283        4      164         1675   \n",
       "top     QEVuQwEAmS9U3RAfpAoxDeyaHuHfNQ==   female       US   2019-01-28   \n",
       "freq                               69187  6478402  4690209        10887   \n",
       "\n",
       "       trackable_id trackable_type trackable_name trackable_value  \n",
       "count       7976223        7976223        7976219         7049339  \n",
       "unique       222465              7         117214           15960  \n",
       "top             242        Symptom       humidity               0  \n",
       "freq         109093        3642279         232334         1385241  "
      ]
     },
     "execution_count": 6,
     "metadata": {},
     "output_type": "execute_result"
    }
   ],
   "source": [
    "df.describe(include=[\"O\"])"
   ]
  },
  {
   "cell_type": "code",
   "execution_count": 9,
   "id": "821ff691",
   "metadata": {},
   "outputs": [],
   "source": [
    "df['user_id'] = pd.Categorical(df['user_id'])\n",
    "df['user_id']= df.user_id.cat.codes"
   ]
  },
  {
   "cell_type": "code",
   "execution_count": 7,
   "id": "5e3051a5",
   "metadata": {},
   "outputs": [
    {
     "name": "stdout",
     "output_type": "stream",
     "text": [
      "user_id\n",
      "QEVuQwEAmS9U3RAfpAoxDeyaHuHfNQ==    69187\n",
      "QEVuQwEAlNMIH8RXhjZvx6HzoW8iXQ==    66151\n",
      "QEVuQwEAhBn9PfvMceuuky/L/gXfNw==    52308\n",
      "QEVuQwEAVaa7SCCq9wZKg//dpv5Xyw==    39827\n",
      "QEVuQwEAPpzXRFYj0gtBzyok9tgeWA==    34469\n",
      "                                    ...  \n",
      "QEVuQwEAWg4pCEIkXFpBdEOdLWe9Dw==        1\n",
      "QEVuQwEAeHQv8LoQ2qmMW42o/vDFfg==        1\n",
      "QEVuQwEAzaBucIQ9F+9zpfSMO59mWw==        1\n",
      "QEVuQwEAfgw7nlsxEoxV7P9fYh4FBg==        1\n",
      "QEVuQwEABlEzkh7fsBBjEe26RyIVcg==        1\n",
      "Name: count, Length: 42283, dtype: int64\n"
     ]
    }
   ],
   "source": [
    "value_counts = df['user_id'].value_counts()\n",
    "print(value_counts)"
   ]
  },
  {
   "cell_type": "code",
   "execution_count": 10,
   "id": "925c51d1",
   "metadata": {},
   "outputs": [
    {
     "data": {
      "text/html": [
       "<div>\n",
       "<style scoped>\n",
       "    .dataframe tbody tr th:only-of-type {\n",
       "        vertical-align: middle;\n",
       "    }\n",
       "\n",
       "    .dataframe tbody tr th {\n",
       "        vertical-align: top;\n",
       "    }\n",
       "\n",
       "    .dataframe thead th {\n",
       "        text-align: right;\n",
       "    }\n",
       "</style>\n",
       "<table border=\"1\" class=\"dataframe\">\n",
       "  <thead>\n",
       "    <tr style=\"text-align: right;\">\n",
       "      <th></th>\n",
       "      <th>user_id</th>\n",
       "      <th>age</th>\n",
       "      <th>sex</th>\n",
       "      <th>country</th>\n",
       "      <th>checkin_date</th>\n",
       "      <th>trackable_id</th>\n",
       "      <th>trackable_type</th>\n",
       "      <th>trackable_name</th>\n",
       "      <th>trackable_value</th>\n",
       "    </tr>\n",
       "  </thead>\n",
       "  <tbody>\n",
       "    <tr>\n",
       "      <th>0</th>\n",
       "      <td>9070</td>\n",
       "      <td>NaN</td>\n",
       "      <td>NaN</td>\n",
       "      <td>NaN</td>\n",
       "      <td>2015-11-26</td>\n",
       "      <td>1069</td>\n",
       "      <td>Condition</td>\n",
       "      <td>Ulcerative colitis</td>\n",
       "      <td>0</td>\n",
       "    </tr>\n",
       "    <tr>\n",
       "      <th>1</th>\n",
       "      <td>22737</td>\n",
       "      <td>32.0</td>\n",
       "      <td>male</td>\n",
       "      <td>US</td>\n",
       "      <td>2015-11-26</td>\n",
       "      <td>1069</td>\n",
       "      <td>Condition</td>\n",
       "      <td>Ulcerative colitis</td>\n",
       "      <td>0</td>\n",
       "    </tr>\n",
       "    <tr>\n",
       "      <th>2</th>\n",
       "      <td>376</td>\n",
       "      <td>2.0</td>\n",
       "      <td>female</td>\n",
       "      <td>CA</td>\n",
       "      <td>2017-04-28</td>\n",
       "      <td>3168</td>\n",
       "      <td>Condition</td>\n",
       "      <td>pain in left upper arm felt like i was getting...</td>\n",
       "      <td>4</td>\n",
       "    </tr>\n",
       "    <tr>\n",
       "      <th>3</th>\n",
       "      <td>376</td>\n",
       "      <td>2.0</td>\n",
       "      <td>female</td>\n",
       "      <td>CA</td>\n",
       "      <td>2017-04-28</td>\n",
       "      <td>3169</td>\n",
       "      <td>Condition</td>\n",
       "      <td>hip pain when gettin up</td>\n",
       "      <td>3</td>\n",
       "    </tr>\n",
       "    <tr>\n",
       "      <th>4</th>\n",
       "      <td>376</td>\n",
       "      <td>2.0</td>\n",
       "      <td>female</td>\n",
       "      <td>CA</td>\n",
       "      <td>2017-04-28</td>\n",
       "      <td>3170</td>\n",
       "      <td>Condition</td>\n",
       "      <td>pain in hand joints</td>\n",
       "      <td>4</td>\n",
       "    </tr>\n",
       "  </tbody>\n",
       "</table>\n",
       "</div>"
      ],
      "text/plain": [
       "   user_id   age     sex country checkin_date trackable_id trackable_type   \n",
       "0     9070   NaN     NaN     NaN   2015-11-26         1069      Condition  \\\n",
       "1    22737  32.0    male      US   2015-11-26         1069      Condition   \n",
       "2      376   2.0  female      CA   2017-04-28         3168      Condition   \n",
       "3      376   2.0  female      CA   2017-04-28         3169      Condition   \n",
       "4      376   2.0  female      CA   2017-04-28         3170      Condition   \n",
       "\n",
       "                                      trackable_name trackable_value  \n",
       "0                                 Ulcerative colitis               0  \n",
       "1                                 Ulcerative colitis               0  \n",
       "2  pain in left upper arm felt like i was getting...               4  \n",
       "3                            hip pain when gettin up               3  \n",
       "4                                pain in hand joints               4  "
      ]
     },
     "execution_count": 10,
     "metadata": {},
     "output_type": "execute_result"
    }
   ],
   "source": [
    "df.head()"
   ]
  },
  {
   "cell_type": "code",
   "execution_count": 11,
   "id": "dd271a38",
   "metadata": {},
   "outputs": [
    {
     "name": "stdout",
     "output_type": "stream",
     "text": [
      "trackable_type\n",
      "Symptom      3642279\n",
      "Weather      1393806\n",
      "Condition    1111517\n",
      "Treatment     901820\n",
      "Food          480971\n",
      "Tag           445669\n",
      "HBI              161\n",
      "Name: count, dtype: int64\n"
     ]
    }
   ],
   "source": [
    "trackable_type_value_counts = df['trackable_type'].value_counts()\n",
    "print(trackable_type_value_counts)"
   ]
  },
  {
   "cell_type": "code",
   "execution_count": 13,
   "id": "f4e627f0",
   "metadata": {},
   "outputs": [
    {
     "name": "stdout",
     "output_type": "stream",
     "text": [
      "trackable_name\n",
      "humidity                            232334\n",
      "pressure                            232302\n",
      "precip_intensity                    232301\n",
      "temperature_min                     232301\n",
      "icon                                232301\n",
      "                                     ...  \n",
      "sugar dairy gluten free anything         1\n",
      "prednisilone                             1\n",
      "cuddled                                  1\n",
      "chocolate custard                        1\n",
      "poor productivity                        1\n",
      "Name: count, Length: 117214, dtype: int64\n"
     ]
    }
   ],
   "source": [
    "trackable_name_value_counts = df['trackable_name'].value_counts()\n",
    "print(trackable_name_value_counts)"
   ]
  },
  {
   "cell_type": "code",
   "execution_count": 14,
   "id": "d550cbdf",
   "metadata": {},
   "outputs": [],
   "source": [
    "df_1 = df[~df['trackable_type'].str.contains('Weather|Tag|HBI|Food')]"
   ]
  },
  {
   "cell_type": "code",
   "execution_count": 15,
   "id": "24f535cc",
   "metadata": {},
   "outputs": [
    {
     "name": "stdout",
     "output_type": "stream",
     "text": [
      "         user_id   age     sex country checkin_date trackable_id   \n",
      "0           9070   NaN     NaN     NaN   2015-11-26         1069  \\\n",
      "1          22737  32.0    male      US   2015-11-26         1069   \n",
      "2            376   2.0  female      CA   2017-04-28         3168   \n",
      "3            376   2.0  female      CA   2017-04-28         3169   \n",
      "4            376   2.0  female      CA   2017-04-28         3170   \n",
      "...          ...   ...     ...     ...          ...          ...   \n",
      "7976213    38270  22.0  female      GB   2019-12-04         3368   \n",
      "7976214    38270  22.0  female      GB   2019-12-04          153   \n",
      "7976215    38270  22.0  female      GB   2019-12-04          242   \n",
      "7976216    38270  22.0  female      GB   2019-12-04         1026   \n",
      "7976217    38270  22.0  female      GB   2019-12-04        30924   \n",
      "\n",
      "        trackable_type                                     trackable_name   \n",
      "0            Condition                                 Ulcerative colitis  \\\n",
      "1            Condition                                 Ulcerative colitis   \n",
      "2            Condition  pain in left upper arm felt like i was getting...   \n",
      "3            Condition                            hip pain when gettin up   \n",
      "4            Condition                                pain in hand joints   \n",
      "...                ...                                                ...   \n",
      "7976213        Symptom                              difficulty getting up   \n",
      "7976214        Symptom                                          Neck pain   \n",
      "7976215        Symptom                                            Fatigue   \n",
      "7976216        Symptom                                 Poor concentration   \n",
      "7976217        Symptom                                  poor productivity   \n",
      "\n",
      "        trackable_value  \n",
      "0                     0  \n",
      "1                     0  \n",
      "2                     4  \n",
      "3                     3  \n",
      "4                     4  \n",
      "...                 ...  \n",
      "7976213               4  \n",
      "7976214               2  \n",
      "7976215               3  \n",
      "7976216               3  \n",
      "7976217               3  \n",
      "\n",
      "[5655616 rows x 9 columns]\n"
     ]
    }
   ],
   "source": [
    "print(df_1)"
   ]
  },
  {
   "cell_type": "code",
   "execution_count": 17,
   "id": "718252b3",
   "metadata": {},
   "outputs": [
    {
     "data": {
      "text/plain": [
       "trackable_type\n",
       "Symptom      3642279\n",
       "Condition    1111517\n",
       "Treatment     901820\n",
       "Name: count, dtype: int64"
      ]
     },
     "execution_count": 17,
     "metadata": {},
     "output_type": "execute_result"
    }
   ],
   "source": [
    "df_1['trackable_type'].value_counts()"
   ]
  },
  {
   "cell_type": "code",
   "execution_count": 18,
   "id": "d27f748f",
   "metadata": {},
   "outputs": [
    {
     "data": {
      "text/plain": [
       "user_id            41461\n",
       "age                  100\n",
       "sex                    4\n",
       "country              160\n",
       "checkin_date        1669\n",
       "trackable_id       27735\n",
       "trackable_type         3\n",
       "trackable_name     39275\n",
       "trackable_value    14484\n",
       "dtype: int64"
      ]
     },
     "execution_count": 18,
     "metadata": {},
     "output_type": "execute_result"
    }
   ],
   "source": [
    "df_1.nunique()"
   ]
  },
  {
   "cell_type": "code",
   "execution_count": 22,
   "id": "b085b044",
   "metadata": {
    "scrolled": false
   },
   "outputs": [],
   "source": [
    "df_1_condition = df_1[df_1['trackable_type'].isin(['Condition'])]"
   ]
  },
  {
   "cell_type": "code",
   "execution_count": 24,
   "id": "5bd29fa2",
   "metadata": {},
   "outputs": [
    {
     "data": {
      "text/html": [
       "<div>\n",
       "<style scoped>\n",
       "    .dataframe tbody tr th:only-of-type {\n",
       "        vertical-align: middle;\n",
       "    }\n",
       "\n",
       "    .dataframe tbody tr th {\n",
       "        vertical-align: top;\n",
       "    }\n",
       "\n",
       "    .dataframe thead th {\n",
       "        text-align: right;\n",
       "    }\n",
       "</style>\n",
       "<table border=\"1\" class=\"dataframe\">\n",
       "  <thead>\n",
       "    <tr style=\"text-align: right;\">\n",
       "      <th></th>\n",
       "      <th>user_id</th>\n",
       "      <th>age</th>\n",
       "      <th>sex</th>\n",
       "      <th>country</th>\n",
       "      <th>checkin_date</th>\n",
       "      <th>trackable_id</th>\n",
       "      <th>trackable_type</th>\n",
       "      <th>trackable_name</th>\n",
       "      <th>trackable_value</th>\n",
       "    </tr>\n",
       "  </thead>\n",
       "  <tbody>\n",
       "    <tr>\n",
       "      <th>0</th>\n",
       "      <td>9070</td>\n",
       "      <td>NaN</td>\n",
       "      <td>NaN</td>\n",
       "      <td>NaN</td>\n",
       "      <td>2015-11-26</td>\n",
       "      <td>1069</td>\n",
       "      <td>Condition</td>\n",
       "      <td>Ulcerative colitis</td>\n",
       "      <td>0</td>\n",
       "    </tr>\n",
       "    <tr>\n",
       "      <th>1</th>\n",
       "      <td>22737</td>\n",
       "      <td>32.0</td>\n",
       "      <td>male</td>\n",
       "      <td>US</td>\n",
       "      <td>2015-11-26</td>\n",
       "      <td>1069</td>\n",
       "      <td>Condition</td>\n",
       "      <td>Ulcerative colitis</td>\n",
       "      <td>0</td>\n",
       "    </tr>\n",
       "    <tr>\n",
       "      <th>2</th>\n",
       "      <td>376</td>\n",
       "      <td>2.0</td>\n",
       "      <td>female</td>\n",
       "      <td>CA</td>\n",
       "      <td>2017-04-28</td>\n",
       "      <td>3168</td>\n",
       "      <td>Condition</td>\n",
       "      <td>pain in left upper arm felt like i was getting...</td>\n",
       "      <td>4</td>\n",
       "    </tr>\n",
       "    <tr>\n",
       "      <th>3</th>\n",
       "      <td>376</td>\n",
       "      <td>2.0</td>\n",
       "      <td>female</td>\n",
       "      <td>CA</td>\n",
       "      <td>2017-04-28</td>\n",
       "      <td>3169</td>\n",
       "      <td>Condition</td>\n",
       "      <td>hip pain when gettin up</td>\n",
       "      <td>3</td>\n",
       "    </tr>\n",
       "    <tr>\n",
       "      <th>4</th>\n",
       "      <td>376</td>\n",
       "      <td>2.0</td>\n",
       "      <td>female</td>\n",
       "      <td>CA</td>\n",
       "      <td>2017-04-28</td>\n",
       "      <td>3170</td>\n",
       "      <td>Condition</td>\n",
       "      <td>pain in hand joints</td>\n",
       "      <td>4</td>\n",
       "    </tr>\n",
       "  </tbody>\n",
       "</table>\n",
       "</div>"
      ],
      "text/plain": [
       "   user_id   age     sex country checkin_date trackable_id trackable_type   \n",
       "0     9070   NaN     NaN     NaN   2015-11-26         1069      Condition  \\\n",
       "1    22737  32.0    male      US   2015-11-26         1069      Condition   \n",
       "2      376   2.0  female      CA   2017-04-28         3168      Condition   \n",
       "3      376   2.0  female      CA   2017-04-28         3169      Condition   \n",
       "4      376   2.0  female      CA   2017-04-28         3170      Condition   \n",
       "\n",
       "                                      trackable_name trackable_value  \n",
       "0                                 Ulcerative colitis               0  \n",
       "1                                 Ulcerative colitis               0  \n",
       "2  pain in left upper arm felt like i was getting...               4  \n",
       "3                            hip pain when gettin up               3  \n",
       "4                                pain in hand joints               4  "
      ]
     },
     "execution_count": 24,
     "metadata": {},
     "output_type": "execute_result"
    }
   ],
   "source": [
    "df_1_condition.head()"
   ]
  },
  {
   "cell_type": "code",
   "execution_count": 25,
   "id": "1cbc57b8",
   "metadata": {},
   "outputs": [
    {
     "data": {
      "text/plain": [
       "trackable_type\n",
       "Condition    1111517\n",
       "Name: count, dtype: int64"
      ]
     },
     "execution_count": 25,
     "metadata": {},
     "output_type": "execute_result"
    }
   ],
   "source": [
    "df_1_condition['trackable_type'].value_counts()"
   ]
  },
  {
   "cell_type": "code",
   "execution_count": null,
   "id": "36c76e36",
   "metadata": {},
   "outputs": [],
   "source": []
  }
 ],
 "metadata": {
  "kernelspec": {
   "display_name": "Python 3 (ipykernel)",
   "language": "python",
   "name": "python3"
  },
  "language_info": {
   "codemirror_mode": {
    "name": "ipython",
    "version": 3
   },
   "file_extension": ".py",
   "mimetype": "text/x-python",
   "name": "python",
   "nbconvert_exporter": "python",
   "pygments_lexer": "ipython3",
   "version": "3.11.0"
  }
 },
 "nbformat": 4,
 "nbformat_minor": 5
}
